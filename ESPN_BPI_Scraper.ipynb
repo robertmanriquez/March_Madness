{
 "cells": [
  {
   "cell_type": "code",
   "execution_count": null,
   "metadata": {},
   "outputs": [],
   "source": [
    "from bs4 import BeautifulSoup\n",
    "from selenium import webdriver\n",
    "from time import sleep\n",
    "\n",
    "def BPIScraper():\n",
    "    \n",
    "    driver = webdriver.Chrome()\n",
    "    bpi_df = pd.DataFrame()\n",
    "    \n",
    "    for page in range(1,16):\n",
    "        print(page)\n",
    "        # Using this url, I can specify which season I want manually in the /bpi/season/[\"201X\"]/page/ field.\n",
    "        driver.get('http://www.espn.com/mens-college-basketball/bpi/_/view/bpi/season/2017/page/' + str(page))\n",
    "\n",
    "        html = driver.page_source\n",
    "        soup = BeautifulSoup(html, 'lxml')\n",
    "\n",
    "        team_names = []\n",
    "        for name in soup.find_all('span', {'class':'team-names'}):\n",
    "            team_names.append(name.text)\n",
    "\n",
    "        bpi_list = []\n",
    "        for i in soup.find_all('tbody')[1].find_all('tr'):\n",
    "            bpi_list.append(i.find_all('td')[6].text)\n",
    "\n",
    "        loop_df = pd.DataFrame({\n",
    "            \"TeamName\":team_names,\n",
    "            \"BPI\":bpi_list\n",
    "        })\n",
    "\n",
    "        bpi_df = pd.concat([bpi_df,loop_df], axis = 0).copy()\n",
    "        sleep(3)\n",
    "        print(page, \"done\")\n",
    "    \n",
    "    bpi_df.reset_index(drop = True).to_csv('FILENAME.csv',index = False)"
   ]
  }
 ],
 "metadata": {
  "kernelspec": {
   "display_name": "Python 3",
   "language": "python",
   "name": "python3"
  },
  "language_info": {
   "codemirror_mode": {
    "name": "ipython",
    "version": 3
   },
   "file_extension": ".py",
   "mimetype": "text/x-python",
   "name": "python",
   "nbconvert_exporter": "python",
   "pygments_lexer": "ipython3",
   "version": "3.6.4"
  }
 },
 "nbformat": 4,
 "nbformat_minor": 2
}
